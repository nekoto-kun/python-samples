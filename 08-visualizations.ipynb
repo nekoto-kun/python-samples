{
 "cells": [
  {
   "cell_type": "code",
   "execution_count": null,
   "metadata": {},
   "outputs": [],
   "source": [
    "import pandas as pd\n",
    "import matplotlib.pyplot as plt\n",
    "import seaborn as sns\n",
    "import re\n",
    "\n",
    "# Function to parse nginx log lines\n",
    "def parse_log_line(line):\n",
    "  log_pattern = re.compile(r'(?P<ip>\\d+\\.\\d+\\.\\d+\\.\\d+) - - \\[(?P<time>.*?)\\] \"(?P<request>.*?)\" (?P<status>\\d+) (?P<size>\\d+) \"(?P<referrer>.*?)\" \"(?P<user_agent>.*?)\"')\n",
    "  match = log_pattern.match(line)\n",
    "  if match:\n",
    "    return match.groupdict()\n",
    "  return None\n",
    "\n",
    "# Read and parse the log file\n",
    "log_file_path = 'samples/access_wordpress.log'\n",
    "with open(log_file_path, 'r') as file:\n",
    "  log_lines = file.readlines()\n",
    "\n",
    "log_entries = [parse_log_line(line) for line in log_lines if parse_log_line(line) is not None]\n",
    "df = pd.DataFrame(log_entries)\n",
    "\n",
    "# Convert time to datetime\n",
    "df['time'] = pd.to_datetime(df['time'], format='%d/%b/%Y:%H:%M:%S %z')\n",
    "\n",
    "# Convert status and size to numeric\n",
    "df['status'] = pd.to_numeric(df['status'])\n",
    "df['size'] = pd.to_numeric(df['size'])\n",
    "\n",
    "# Plotting\n",
    "plt.figure(figsize=(15, 10))\n",
    "\n",
    "# Plot 1: Number of requests per status code\n",
    "plt.subplot(2, 2, 1)\n",
    "sns.countplot(x='status', data=df)\n",
    "plt.title('Number of Requests per Status Code')\n",
    "\n",
    "# Plot 2: Number of requests over time\n",
    "plt.subplot(2, 2, 2)\n",
    "df.set_index('time').resample('H').size().plot()\n",
    "plt.title('Number of Requests Over Time')\n",
    "\n",
    "# Plot 3: Top 10 IPs by number of requests\n",
    "plt.subplot(2, 2, 3)\n",
    "df['ip'].value_counts().head(10).plot(kind='bar')\n",
    "plt.title('Top 10 IPs by Number of Requests')\n",
    "\n",
    "# Plot 4: Top 10 requested URLs\n",
    "plt.subplot(2, 2, 4)\n",
    "df['request'].value_counts().head(10).plot(kind='bar')\n",
    "plt.title('Top 10 Requested URLs')\n",
    "\n",
    "plt.tight_layout()\n",
    "plt.show()"
   ]
  }
 ],
 "metadata": {
  "kernelspec": {
   "display_name": "venv",
   "language": "python",
   "name": "python3"
  },
  "language_info": {
   "codemirror_mode": {
    "name": "ipython",
    "version": 3
   },
   "file_extension": ".py",
   "mimetype": "text/x-python",
   "name": "python",
   "nbconvert_exporter": "python",
   "pygments_lexer": "ipython3",
   "version": "3.13.0"
  }
 },
 "nbformat": 4,
 "nbformat_minor": 2
}
